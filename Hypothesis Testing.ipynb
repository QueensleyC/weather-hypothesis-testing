{
 "cells": [
  {
   "cell_type": "markdown",
   "metadata": {},
   "source": [
    "# Task\n",
    "\n",
    "The dataset, in question, contains information about the customers’ demand rate between \n",
    "January 2017 and August 2018. The data were collected on an hourly basis and included\n",
    "the time data such as date, hour, and season as well as weather data such as the weather \n",
    "condition, temperature, humidity, and wind speed.\n",
    "\n",
    "I'll be using appropriate hypothesis testing to determine if there is a significant relationship \n",
    "between each column except the timestamp column and the demand rate."
   ]
  },
  {
   "cell_type": "markdown",
   "metadata": {},
   "source": [
    "![](weather-images.jpg)"
   ]
  },
  {
   "cell_type": "markdown",
   "metadata": {},
   "source": [
    "# Data\n",
    "\n",
    "| Column name | Description |\n",
    "|-------------|-------------|\n",
    "| id | The sample number specifying its order among other samples (records) |\n",
    "| timestamps | The time and date when the sample was collected |\n",
    "| season | The season when the sample was collected |\n",
    "| holiday | This column specifies whether the date when the sample was collected was a holiday or not |\n",
    "| workingday | This column specifies whether the date when the sample was collected was a working day or not |\n",
    "| weather | This column specifies the weather condition when the sample was collected |\n",
    "| temp | This column shows the temperature when the sample was collected |\n",
    "| temp_feel | This column shows the feels-like temperature when the sample was collected |\n",
    "| humidity | This column shows the humidity when the sample was collected |\n",
    "| windspeed | This column shows the wind speed when the sample was collected |\n",
    "| demand | This column shows the demand rate for the hour when the sample was collected. Higher the demand rate, the higher the customer’s willingness to rent a car. |\n"
   ]
  },
  {
   "cell_type": "code",
   "execution_count": 24,
   "metadata": {},
   "outputs": [],
   "source": [
    "# Import libraries\n",
    "import numpy as np\n",
    "import pandas as pd\n",
    "import statsmodels.api as sm\n",
    "from matplotlib import pyplot as plt\n",
    "from scipy import stats"
   ]
  },
  {
   "cell_type": "code",
   "execution_count": 25,
   "metadata": {},
   "outputs": [
    {
     "data": {
      "text/html": [
       "<div>\n",
       "<style scoped>\n",
       "    .dataframe tbody tr th:only-of-type {\n",
       "        vertical-align: middle;\n",
       "    }\n",
       "\n",
       "    .dataframe tbody tr th {\n",
       "        vertical-align: top;\n",
       "    }\n",
       "\n",
       "    .dataframe thead th {\n",
       "        text-align: right;\n",
       "    }\n",
       "</style>\n",
       "<table border=\"1\" class=\"dataframe\">\n",
       "  <thead>\n",
       "    <tr style=\"text-align: right;\">\n",
       "      <th></th>\n",
       "      <th>timestamp</th>\n",
       "      <th>season</th>\n",
       "      <th>holiday</th>\n",
       "      <th>workingday</th>\n",
       "      <th>weather</th>\n",
       "      <th>temp</th>\n",
       "      <th>temp_feel</th>\n",
       "      <th>humidity</th>\n",
       "      <th>windspeed</th>\n",
       "      <th>demand</th>\n",
       "    </tr>\n",
       "    <tr>\n",
       "      <th>id</th>\n",
       "      <th></th>\n",
       "      <th></th>\n",
       "      <th></th>\n",
       "      <th></th>\n",
       "      <th></th>\n",
       "      <th></th>\n",
       "      <th></th>\n",
       "      <th></th>\n",
       "      <th></th>\n",
       "      <th></th>\n",
       "    </tr>\n",
       "  </thead>\n",
       "  <tbody>\n",
       "    <tr>\n",
       "      <th>1</th>\n",
       "      <td>2017-01-01 00:00:00</td>\n",
       "      <td>spring</td>\n",
       "      <td>No</td>\n",
       "      <td>No</td>\n",
       "      <td>Clear or partly cloudy</td>\n",
       "      <td>9.84</td>\n",
       "      <td>14.395</td>\n",
       "      <td>81.0</td>\n",
       "      <td>0.0</td>\n",
       "      <td>2.772589</td>\n",
       "    </tr>\n",
       "    <tr>\n",
       "      <th>2</th>\n",
       "      <td>2017-01-01 01:00:00</td>\n",
       "      <td>spring</td>\n",
       "      <td>No</td>\n",
       "      <td>No</td>\n",
       "      <td>Clear or partly cloudy</td>\n",
       "      <td>9.02</td>\n",
       "      <td>13.635</td>\n",
       "      <td>80.0</td>\n",
       "      <td>0.0</td>\n",
       "      <td>3.688879</td>\n",
       "    </tr>\n",
       "    <tr>\n",
       "      <th>3</th>\n",
       "      <td>2017-01-01 02:00:00</td>\n",
       "      <td>spring</td>\n",
       "      <td>No</td>\n",
       "      <td>No</td>\n",
       "      <td>Clear or partly cloudy</td>\n",
       "      <td>9.02</td>\n",
       "      <td>13.635</td>\n",
       "      <td>80.0</td>\n",
       "      <td>0.0</td>\n",
       "      <td>3.465736</td>\n",
       "    </tr>\n",
       "    <tr>\n",
       "      <th>4</th>\n",
       "      <td>2017-01-01 03:00:00</td>\n",
       "      <td>spring</td>\n",
       "      <td>No</td>\n",
       "      <td>No</td>\n",
       "      <td>Clear or partly cloudy</td>\n",
       "      <td>9.84</td>\n",
       "      <td>14.395</td>\n",
       "      <td>75.0</td>\n",
       "      <td>0.0</td>\n",
       "      <td>2.564949</td>\n",
       "    </tr>\n",
       "    <tr>\n",
       "      <th>5</th>\n",
       "      <td>2017-01-01 04:00:00</td>\n",
       "      <td>spring</td>\n",
       "      <td>No</td>\n",
       "      <td>No</td>\n",
       "      <td>Clear or partly cloudy</td>\n",
       "      <td>9.84</td>\n",
       "      <td>14.395</td>\n",
       "      <td>75.0</td>\n",
       "      <td>0.0</td>\n",
       "      <td>0.000000</td>\n",
       "    </tr>\n",
       "  </tbody>\n",
       "</table>\n",
       "</div>"
      ],
      "text/plain": [
       "              timestamp  season holiday workingday                 weather  \\\n",
       "id                                                                           \n",
       "1   2017-01-01 00:00:00  spring      No         No  Clear or partly cloudy   \n",
       "2   2017-01-01 01:00:00  spring      No         No  Clear or partly cloudy   \n",
       "3   2017-01-01 02:00:00  spring      No         No  Clear or partly cloudy   \n",
       "4   2017-01-01 03:00:00  spring      No         No  Clear or partly cloudy   \n",
       "5   2017-01-01 04:00:00  spring      No         No  Clear or partly cloudy   \n",
       "\n",
       "    temp  temp_feel  humidity  windspeed    demand  \n",
       "id                                                  \n",
       "1   9.84     14.395      81.0        0.0  2.772589  \n",
       "2   9.02     13.635      80.0        0.0  3.688879  \n",
       "3   9.02     13.635      80.0        0.0  3.465736  \n",
       "4   9.84     14.395      75.0        0.0  2.564949  \n",
       "5   9.84     14.395      75.0        0.0  0.000000  "
      ]
     },
     "execution_count": 25,
     "metadata": {},
     "output_type": "execute_result"
    }
   ],
   "source": [
    "# Imports data and sets the \"id\" column as the index of the dataset\n",
    "df = pd.read_csv(\"CarSharing.csv\",index_col = \"id\") \n",
    "\n",
    "df.head()\n"
   ]
  },
  {
   "cell_type": "code",
   "execution_count": 26,
   "metadata": {},
   "outputs": [
    {
     "data": {
      "text/plain": [
       "0"
      ]
     },
     "execution_count": 26,
     "metadata": {},
     "output_type": "execute_result"
    }
   ],
   "source": [
    "\n",
    "# duplicated() return True if a row is duplicated, sum() adds up all the \"True\" values\n",
    "df.duplicated().sum() \n"
   ]
  },
  {
   "cell_type": "code",
   "execution_count": 27,
   "metadata": {},
   "outputs": [
    {
     "data": {
      "text/plain": [
       "timestamp        0\n",
       "season           0\n",
       "holiday          0\n",
       "workingday       0\n",
       "weather          0\n",
       "temp          1202\n",
       "temp_feel      102\n",
       "humidity        39\n",
       "windspeed      200\n",
       "demand           0\n",
       "dtype: int64"
      ]
     },
     "execution_count": 27,
     "metadata": {},
     "output_type": "execute_result"
    }
   ],
   "source": [
    "\n",
    "# Checks for null values per column\n",
    "df.isnull().sum() \n"
   ]
  },
  {
   "cell_type": "code",
   "execution_count": 28,
   "metadata": {},
   "outputs": [],
   "source": [
    "\n",
    "# A function that plots the distribution of a column and computes the mean, median and mode of a column\n",
    "def compute_hist_central_tendency(col):\n",
    "    plt.hist(df[col], bins = 25)\n",
    "    plt.ylabel(\"Frequency\")\n",
    "    plt.xlabel(col)\n",
    "    plt.title(\"Distribution of \"+ col)\n",
    "    \n",
    "    print(col, \"mean: \", df[col].mean())\n",
    "    print(col, \"median: \", df[col].median())\n",
    "    print(col, \"mode: \", df[col].mode())\n",
    "    \n",
    "# filling missing values with medians of the respective columns\n",
    "df['temp'].fillna(df['temp'].median(), inplace = True)\n",
    "df['humidity'].fillna(df['humidity'].median(), inplace = True)\n",
    "df['windspeed'].fillna(df['windspeed'].median(), inplace = True)\n",
    "df['temp_feel'].fillna(df['temp_feel'].median(), inplace = True)\n",
    "\n",
    "# Save cleaned data\n",
    "df.to_csv(\"car_sharing_cleaned\")\n",
    "\n"
   ]
  },
  {
   "cell_type": "code",
   "execution_count": 29,
   "metadata": {},
   "outputs": [
    {
     "name": "stdout",
     "output_type": "stream",
     "text": [
      "<class 'pandas.core.frame.DataFrame'>\n",
      "Int64Index: 8708 entries, 1 to 8708\n",
      "Data columns (total 10 columns):\n",
      " #   Column      Non-Null Count  Dtype  \n",
      "---  ------      --------------  -----  \n",
      " 0   timestamp   8708 non-null   object \n",
      " 1   season      8708 non-null   object \n",
      " 2   holiday     8708 non-null   object \n",
      " 3   workingday  8708 non-null   object \n",
      " 4   weather     8708 non-null   object \n",
      " 5   temp        8708 non-null   float64\n",
      " 6   temp_feel   8708 non-null   float64\n",
      " 7   humidity    8708 non-null   float64\n",
      " 8   windspeed   8708 non-null   float64\n",
      " 9   demand      8708 non-null   float64\n",
      "dtypes: float64(5), object(5)\n",
      "memory usage: 748.3+ KB\n"
     ]
    }
   ],
   "source": [
    "# Read csv data into a dataframe and inspect data\n",
    "df = pd.read_csv(\"car_sharing_cleaned\",index_col = \"id\" )\n",
    "df.head()\n",
    "df.info()\n"
   ]
  },
  {
   "cell_type": "markdown",
   "metadata": {},
   "source": [
    " ## Numerical vs Numverical significance test\n"
   ]
  },
  {
   "cell_type": "code",
   "execution_count": 30,
   "metadata": {},
   "outputs": [
    {
     "name": "stdout",
     "output_type": "stream",
     "text": [
      "p value:0.0000\n",
      "Reject null hypothesis >> The column `temp` is not normally distributed\n",
      "p value:0.0000\n",
      "Reject null hypothesis >> The column `temp_feel` is not normally distributed\n",
      "p value:0.0000\n",
      "Reject null hypothesis >> The column `humidity` is not normally distributed\n",
      "p value:0.0000\n",
      "Reject null hypothesis >> The column `windspeed` is not normally distributed\n",
      "p value:0.0000\n",
      "Reject null hypothesis >> The variances of the samples, `temp` and `temp_feel are different.\n",
      "p value:0.0000\n",
      "Reject null hypothesis >> The variances of the samples, `temp` and `humidity are different.\n",
      "p value:0.0000\n",
      "Reject null hypothesis >> The variances of the samples, `temp` and `windspeed are different.\n",
      "p value:0.0000\n",
      "Reject null hypothesis >> The variances of the samples, `temp_feel` and `humidity are different.\n",
      "p value:0.0000\n",
      "Reject null hypothesis >> The variances of the samples, `temp_feel` and `windspeed are different.\n",
      "p value:0.0000\n",
      "Reject null hypothesis >> The variances of the samples, `humidity` and `windspeed are different.\n"
     ]
    },
    {
     "name": "stderr",
     "output_type": "stream",
     "text": [
      "c:\\Users\\Eby\\anaconda3\\lib\\site-packages\\scipy\\stats\\_morestats.py:1816: UserWarning: p-value may not be accurate for N > 5000.\n",
      "  warnings.warn(\"p-value may not be accurate for N > 5000.\")\n"
     ]
    }
   ],
   "source": [
    "\n",
    "# Checks if data is normally distributed\n",
    "def check_normality(data):\n",
    "    test_stat_normality, p_value_normality=stats.shapiro(data)\n",
    "    print(\"p value:%.4f\" % p_value_normality)\n",
    "    if p_value_normality <0.05:\n",
    "        print(f\"Reject null hypothesis >> The column `{data.name}` is not normally distributed\")\n",
    "    else:\n",
    "        print(f\"Fail to reject null hypothesis >> The column `{data.name}` is normally distributed\")\n",
    "\n",
    "# Checks if two columns have the same variance\n",
    "def check_variance_homogeneity(group1, group2):\n",
    "    test_stat_var, p_value_var= stats.levene(group1,group2)\n",
    "    print(\"p value:%.4f\" % p_value_var)\n",
    "    if p_value_var <0.05:\n",
    "        print(f\"Reject null hypothesis >> The variances of the samples, `{group1.name}` and `{group2.name} are different.\")\n",
    "    else:\n",
    "        print(f\"Fail to reject null hypothesis >> The variances of the samples, `{group1.name}` and `{group2.name} are same.\")\n",
    "\n",
    "\n",
    "\"\"\"\n",
    "ASSUMPTION CHECK\n",
    "H₀: The data is normally distributed.\n",
    "\n",
    "H₁: The data is not normally distributed.\n",
    "\n",
    "H₀: The variances of the samples are the same.\n",
    "\n",
    "H₁: The variances of the samples are different.\n",
    "\"\"\"\n",
    "\n",
    "check_normality(df[\"temp\"])\n",
    "check_normality(df[\"temp_feel\"])\n",
    "check_normality(df[\"humidity\"])\n",
    "check_normality(df[\"windspeed\"])\n",
    "\n",
    "check_variance_homogeneity(df[\"temp\"], df[\"temp_feel\"])\n",
    "check_variance_homogeneity(df[\"temp\"], df[\"humidity\"])\n",
    "check_variance_homogeneity(df[\"temp\"], df[\"windspeed\"])\n",
    "check_variance_homogeneity(df[\"temp_feel\"], df[\"humidity\"])\n",
    "check_variance_homogeneity(df[\"temp_feel\"], df[\"windspeed\"])\n",
    "check_variance_homogeneity(df[\"humidity\"], df[\"windspeed\"])\n"
   ]
  },
  {
   "cell_type": "markdown",
   "metadata": {},
   "source": [
    "### Mann Whitney Test"
   ]
  },
  {
   "cell_type": "code",
   "execution_count": 31,
   "metadata": {},
   "outputs": [
    {
     "name": "stdout",
     "output_type": "stream",
     "text": [
      "p-value:0.0000\n",
      "Reject null hypothesis >> it can be said that there is a statistically significant difference between temp and temp_feel\n",
      "p-value:0.0000\n",
      "Reject null hypothesis >> it can be said that there is a statistically significant difference between temp and humidity\n",
      "p-value:0.0000\n",
      "Reject null hypothesis >> it can be said that there is a statistically significant difference between temp and windspeed\n",
      "p-value:0.0000\n",
      "Reject null hypothesis >> it can be said that there is a statistically significant difference between temp_feel and humidity\n",
      "p-value:0.0000\n",
      "Reject null hypothesis >> it can be said that there is a statistically significant difference between temp_feel and windspeed\n",
      "p-value:0.0000\n",
      "Reject null hypothesis >> it can be said that there is a statistically significant difference between humidity and windspeed\n"
     ]
    }
   ],
   "source": [
    "\n",
    "# Since the data is not normally distributed and more than that,\n",
    "# have unequal variances, proceed to a non-parametric test.\n",
    "# Mann Whitney non-parametric test can be used in this scenario\n",
    "\n",
    "def mannwhitney_test(col1, col2):\n",
    "    ttest,pvalue = stats.mannwhitneyu(df[col1],df[col2], alternative=\"two-sided\")\n",
    "    print(\"p-value:%.4f\" % pvalue)\n",
    "    if pvalue <0.05:\n",
    "        print(\"Reject null hypothesis >> it can be said that there is a statistically significant difference between\",\n",
    "              col1, \"and\",col2)\n",
    "    else:\n",
    "        print(\"Fail to reject null hypothesis\")\n",
    "\n",
    "mannwhitney_test(\"temp\", \"temp_feel\")\n",
    "mannwhitney_test(\"temp\", \"humidity\")\n",
    "mannwhitney_test(\"temp\", \"windspeed\")\n",
    "mannwhitney_test(\"temp_feel\", \"humidity\")\n",
    "mannwhitney_test(\"temp_feel\", \"windspeed\")\n",
    "mannwhitney_test(\"humidity\", \"windspeed\")\n"
   ]
  },
  {
   "cell_type": "markdown",
   "metadata": {},
   "source": [
    "## Categorical vs Categorical significance test Using Chi-square test of independence\n"
   ]
  },
  {
   "cell_type": "code",
   "execution_count": 32,
   "metadata": {},
   "outputs": [
    {
     "name": "stdout",
     "output_type": "stream",
     "text": [
      "p value:0.0000\n",
      "Reject null hypothesis >> The relationship between season and temp is significant\n",
      "p value:0.0000\n",
      "Reject null hypothesis >> The relationship between season and temp_feel is significant\n",
      "p value:0.0000\n",
      "Reject null hypothesis >> The relationship between season and humidity is significant\n",
      "p value:0.0000\n",
      "Reject null hypothesis >> The relationship between season and windspeed is significant\n"
     ]
    }
   ],
   "source": [
    "# Define a function to test `weather` against other columns\n",
    "def hypothesis_weather_and_others(compare_with):\n",
    "    fall_temp = df[df[\"weather\"] == \"Clear or partly cloudy\"][compare_with]\n",
    "    spring_temp = df[df[\"weather\"] == \"Light snow or rain\"][compare_with]    \n",
    "    summer_temp = df[df[\"weather\"] == \"Mist\"][compare_with]    \n",
    "    winter_temp = df[df[\"weather\"] == \"heavy rain/ice pellets/snow + fog\"][compare_with] \n",
    "    \n",
    "    result = stats.f_oneway(winter_temp.values, summer_temp.values, spring_temp.values, fall_temp.values)   \n",
    "    print(\"p value:%.4f\" % result.pvalue)\n",
    "    \n",
    "    if result.pvalue > 0.05:        \n",
    "        print(\"Accept null hypothesis >> The relationship between season and\", compare_with, \"is not significant\")\n",
    "    else:\n",
    "        print(\"Reject null hypothesis >> The relationship between season and\", compare_with, \"is significant\")\n",
    "    \n",
    "\n",
    "hypothesis_weather_and_others(\"temp\")\n",
    "hypothesis_weather_and_others(\"temp_feel\")\n",
    "hypothesis_weather_and_others(\"humidity\")\n",
    "hypothesis_weather_and_others(\"windspeed\")\n"
   ]
  },
  {
   "cell_type": "code",
   "execution_count": 33,
   "metadata": {},
   "outputs": [
    {
     "name": "stdout",
     "output_type": "stream",
     "text": [
      "p value:0.6461\n",
      "Accept null hypothesis >> The relationship between holiday and temp is not significant\n",
      "p value:0.2271\n",
      "Accept null hypothesis >> The relationship between holiday and temp_feel is not significant\n",
      "p value:0.0165\n",
      "Reject null hypothesis >> The relationship between holiday and humidity is significant\n",
      "p value:0.2803\n",
      "Accept null hypothesis >> The relationship between holiday and windspeed is not significant\n"
     ]
    }
   ],
   "source": [
    "# Define a function to test `holiday` against other columns\n",
    "def hypothesis_holiday_others(compare_with):\n",
    "    holi_yes_temp = df[df[\"holiday\"] == \"Yes\"][compare_with]\n",
    "    holi_no_temp = df[df[\"holiday\"] == \"No\"][compare_with] \n",
    "    \n",
    "    result = stats.ttest_ind(holi_no_temp, holi_yes_temp, equal_var= False)   \n",
    "    print(\"p value:%.4f\" % result.pvalue)\n",
    "    \n",
    "    if result.pvalue > 0.05:        \n",
    "        print(\"Accept null hypothesis >> The relationship between holiday and\", compare_with, \"is not significant\")\n",
    "    else:\n",
    "        print(\"Reject null hypothesis >> The relationship between holiday and\", compare_with, \"is significant\")\n",
    "\n",
    "hypothesis_holiday_others(\"temp\")\n",
    "hypothesis_holiday_others(\"temp_feel\")\n",
    "hypothesis_holiday_others(\"humidity\")\n",
    "hypothesis_holiday_others(\"windspeed\")\n",
    "\n"
   ]
  },
  {
   "cell_type": "code",
   "execution_count": 34,
   "metadata": {},
   "outputs": [
    {
     "name": "stdout",
     "output_type": "stream",
     "text": [
      "p value:0.0082\n",
      "Reject null hypothesis >> The relationship between working day and temp is significant\n",
      "p value:0.0015\n",
      "Reject null hypothesis >> The relationship between working day and temp_feel is significant\n",
      "p value:0.3665\n",
      "Accept null hypothesis >> The relationship between working day and humidity is not significant\n",
      "p value:0.9930\n",
      "Accept null hypothesis >> The relationship between working day and windspeed is not significant\n"
     ]
    }
   ],
   "source": [
    "# Define a function to test `workingday` against other columns\n",
    "def hypothesis_workingday_others(compare_with):\n",
    "    wd_yes_temp = df[df[\"workingday\"] == \"Yes\"][compare_with]\n",
    "    wd_no_temp = df[df[\"workingday\"] == \"No\"][compare_with] \n",
    "    \n",
    "    result = stats.ttest_ind(wd_no_temp, wd_yes_temp, equal_var= True)   \n",
    "    print(\"p value:%.4f\" % result.pvalue)\n",
    "    \n",
    "    if result.pvalue > 0.05:        \n",
    "        print(\"Accept null hypothesis >> The relationship between working day and\", compare_with, \"is not significant\")\n",
    "    else:\n",
    "        print(\"Reject null hypothesis >> The relationship between working day and\", compare_with, \"is significant\")\n",
    "\n",
    "hypothesis_workingday_others(\"temp\")\n",
    "hypothesis_workingday_others(\"temp_feel\")\n",
    "hypothesis_workingday_others(\"humidity\")\n",
    "hypothesis_workingday_others(\"windspeed\")\n",
    "\n",
    "\n"
   ]
  }
 ],
 "metadata": {
  "kernelspec": {
   "display_name": "base",
   "language": "python",
   "name": "python3"
  },
  "language_info": {
   "codemirror_mode": {
    "name": "ipython",
    "version": 3
   },
   "file_extension": ".py",
   "mimetype": "text/x-python",
   "name": "python",
   "nbconvert_exporter": "python",
   "pygments_lexer": "ipython3",
   "version": "3.10.9"
  }
 },
 "nbformat": 4,
 "nbformat_minor": 2
}
